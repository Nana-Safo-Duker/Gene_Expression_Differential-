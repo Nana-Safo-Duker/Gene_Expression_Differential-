{
 "cells": [
  {
   "cell_type": "code",
   "execution_count": null,
   "id": "8d344c1b",
   "metadata": {},
   "outputs": [
    {
     "name": "stderr",
     "output_type": "stream",
     "text": [
      "2025-06-20 11:58:13.602 \n",
      "  \u001b[33m\u001b[1mWarning:\u001b[0m to view this Streamlit app on a browser, run it with the following\n",
      "  command:\n",
      "\n",
      "    streamlit run c:\\Users\\fresh\\anaconda3\\Lib\\site-packages\\ipykernel_launcher.py [ARGUMENTS]\n"
     ]
    }
   ],
   "source": [
    "import streamlit as st\n",
    "import pandas as pd\n",
    "import altair as alt\n",
    "\n",
    "# Page configuration\n",
    "st.set_page_config(page_title=\"Gene Expression Dashboard\", layout=\"wide\")\n",
    "\n",
    "# Title and instructions\n",
    "st.title(\"🧬 Gene Expression Explorer\")\n",
    "st.markdown(\"\"\"\n",
    "Upload your gene expression CSV file to explore expression levels across samples.\n",
    "- Rows = samples  \n",
    "- Columns = gene names (one column should be sample IDs or labels)\n",
    "\"\"\")\n",
    "\n",
    "# File uploader\n",
    "uploaded_file = st.file_uploader(\"Upload CSV\", type=\"csv\")\n",
    "\n",
    "# Main logic\n",
    "if uploaded_file:\n",
    "    try:\n",
    "        df = pd.read_csv(\"deseq5_results.csv\")\n",
    "        \n",
    "        # Check if there are at least 2 columns\n",
    "        if df.shape[1] < 2:\n",
    "            st.error(\"The file must contain at least one sample ID column and one gene expression column.\")\n",
    "        else:\n",
    "            # Display a preview of the dataset\n",
    "            st.success(\"File uploaded successfully.\")\n",
    "            st.dataframe(df.head())\n",
    "\n",
    "            # Let user pick which column is the sample ID\n",
    "            sample_col = st.selectbox(\"Select the sample ID column\", df.columns)\n",
    "            gene_cols = [col for col in df.columns if col != sample_col]\n",
    "\n",
    "            # Let user select gene to visualize\n",
    "            gene = st.selectbox(\"Select a gene to visualize\", gene_cols)\n",
    "\n",
    "            # Prepare data for plotting\n",
    "            chart_data = df[[sample_col, gene]].copy()\n",
    "            chart_data.columns = [\"Sample\", \"Expression\"]\n",
    "\n",
    "            # Create bar chart\n",
    "            chart = alt.Chart(chart_data).mark_bar().encode(\n",
    "                x=alt.X(\"Sample:N\", sort=None),\n",
    "                y=\"Expression:Q\",\n",
    "                tooltip=[\"Sample\", \"Expression\"]\n",
    "            ).properties(\n",
    "                title=f\"Expression of {gene}\",\n",
    "                width=800,\n",
    "                height=400\n",
    "            )\n",
    "\n",
    "            st.altair_chart(chart, use_container_width=True)\n",
    "\n",
    "    except Exception as e:\n",
    "        st.error(f\"An error occurred while processing the file: {e}\")\n",
    "else:\n",
    "    st.info(\"Please upload a gene expression CSV file to begin.\")\n"
   ]
  },
  {
   "cell_type": "code",
   "execution_count": null,
   "id": "2deed97d",
   "metadata": {},
   "outputs": [],
   "source": []
  }
 ],
 "metadata": {
  "kernelspec": {
   "display_name": "base",
   "language": "python",
   "name": "python3"
  },
  "language_info": {
   "codemirror_mode": {
    "name": "ipython",
    "version": 3
   },
   "file_extension": ".py",
   "mimetype": "text/x-python",
   "name": "python",
   "nbconvert_exporter": "python",
   "pygments_lexer": "ipython3",
   "version": "3.12.3"
  }
 },
 "nbformat": 4,
 "nbformat_minor": 5
}
